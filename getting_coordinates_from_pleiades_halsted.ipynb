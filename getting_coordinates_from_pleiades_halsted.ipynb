{
 "cells": [
  {
   "cell_type": "code",
   "execution_count": 1,
   "metadata": {
    "collapsed": true
   },
   "outputs": [],
   "source": [
    "import json"
   ]
  },
  {
   "cell_type": "code",
   "execution_count": 2,
   "metadata": {
    "collapsed": true
   },
   "outputs": [],
   "source": [
    "import urllib.request"
   ]
  },
  {
   "cell_type": "code",
   "execution_count": 8,
   "metadata": {
    "collapsed": true
   },
   "outputs": [],
   "source": [
    "def get_pleiades_json(pleiades_id):\n",
    "    pleiades_url = \"https://raw.githubusercontent.com/ryanfb/pleiades-geojson/gh-pages/geojson/%s.geojson\" % pleiades_id\n",
    "    try: \n",
    "        with urllib.request.urlopen(pleiades_url) as url:\n",
    "            pleiades_geojson = json.loads(url.read().decode())\n",
    "        return pleiades_geojson\n",
    "    except:\n",
    "        return None"
   ]
  },
  {
   "cell_type": "code",
   "execution_count": 9,
   "metadata": {
    "collapsed": true
   },
   "outputs": [],
   "source": [
    "def get_pleiades_coordinates(pleiades_geojson):\n",
    "    try:\n",
    "        geometry = pleiades_geojson ['features'][0]['geometry']\n",
    "        if geometry['type'] == 'Point':\n",
    "            coordinates = geometry['coordinates']\n",
    "        else:\n",
    "            coordinates = pleiades_geojson['reprPoint']\n",
    "        return tuple(coordinates)\n",
    "    except:\n",
    "        return (None, None)"
   ]
  },
  {
   "cell_type": "code",
   "execution_count": 10,
   "metadata": {},
   "outputs": [
    {
     "name": "stdout",
     "output_type": "stream",
     "text": [
      "(52.909444, 29.980833)\n"
     ]
    }
   ],
   "source": [
    "pleiades_test = 922662\n",
    "print(get_pleiades_coordinates(get_pleiades_json(pleiades_test)))"
   ]
  },
  {
   "cell_type": "code",
   "execution_count": 11,
   "metadata": {},
   "outputs": [
    {
     "name": "stdout",
     "output_type": "stream",
     "text": [
      "(51.467636, 35.584692)\n"
     ]
    }
   ],
   "source": [
    "pleiades_test = 903104\n",
    "print(get_pleiades_coordinates(get_pleiades_json(pleiades_test)))"
   ]
  },
  {
   "cell_type": "code",
   "execution_count": 12,
   "metadata": {},
   "outputs": [
    {
     "name": "stdout",
     "output_type": "stream",
     "text": [
      "(53.172744, 30.190972)\n"
     ]
    }
   ],
   "source": [
    "pleiades_test = 922693\n",
    "print(get_pleiades_coordinates(get_pleiades_json(pleiades_test)))"
   ]
  },
  {
   "cell_type": "code",
   "execution_count": 13,
   "metadata": {},
   "outputs": [
    {
     "name": "stdout",
     "output_type": "stream",
     "text": [
      "(48.43661, 34.759872)\n"
     ]
    }
   ],
   "source": [
    "pleiades_test = 903032\n",
    "print(get_pleiades_coordinates(get_pleiades_json(pleiades_test)))"
   ]
  },
  {
   "cell_type": "code",
   "execution_count": 16,
   "metadata": {},
   "outputs": [
    {
     "name": "stdout",
     "output_type": "stream",
     "text": [
      "(52.888525, 29.937872)\n"
     ]
    }
   ],
   "source": [
    "pleiades_id = 922695\n",
    "print(get_pleiades_coordinates(get_pleiades_json(pleiades_id)))"
   ]
  },
  {
   "cell_type": "code",
   "execution_count": 17,
   "metadata": {},
   "outputs": [
    {
     "name": "stdout",
     "output_type": "stream",
     "text": [
      "(47.454353, 34.393528)\n"
     ]
    }
   ],
   "source": [
    "pleiades_id = 903002\n",
    "print(get_pleiades_coordinates(get_pleiades_json(pleiades_id)))"
   ]
  },
  {
   "cell_type": "code",
   "execution_count": 18,
   "metadata": {},
   "outputs": [
    {
     "name": "stdout",
     "output_type": "stream",
     "text": [
      "(52.935221, 29.9774)\n"
     ]
    }
   ],
   "source": [
    "pleiades_id = 922685\n",
    "print(get_pleiades_coordinates(get_pleiades_json(pleiades_id)))"
   ]
  },
  {
   "cell_type": "code",
   "execution_count": 19,
   "metadata": {},
   "outputs": [
    {
     "name": "stdout",
     "output_type": "stream",
     "text": [
      "(52.887043, 29.966486)\n"
     ]
    }
   ],
   "source": [
    "pleiades_id = 922684\n",
    "print(get_pleiades_coordinates(get_pleiades_json(pleiades_id)))"
   ]
  },
  {
   "cell_type": "code",
   "execution_count": 20,
   "metadata": {},
   "outputs": [
    {
     "name": "stdout",
     "output_type": "stream",
     "text": [
      "(48.2537285, 32.1887935)\n"
     ]
    }
   ],
   "source": [
    "pleiades_id = 912936\n",
    "print(get_pleiades_coordinates(get_pleiades_json(pleiades_id)))"
   ]
  },
  {
   "cell_type": "code",
   "execution_count": 21,
   "metadata": {},
   "outputs": [
    {
     "name": "stdout",
     "output_type": "stream",
     "text": [
      "(48.508172, 34.792088)\n"
     ]
    }
   ],
   "source": [
    "pleiades_id = 903021\n",
    "print(get_pleiades_coordinates(get_pleiades_json(pleiades_id)))"
   ]
  }
 ],
 "metadata": {
  "kernelspec": {
   "display_name": "Python 3",
   "language": "python",
   "name": "python3"
  },
  "language_info": {
   "codemirror_mode": {
    "name": "ipython",
    "version": 3
   },
   "file_extension": ".py",
   "mimetype": "text/x-python",
   "name": "python",
   "nbconvert_exporter": "python",
   "pygments_lexer": "ipython3",
   "version": "3.6.1"
  }
 },
 "nbformat": 4,
 "nbformat_minor": 2
}
